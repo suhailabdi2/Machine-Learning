{
  "nbformat": 4,
  "nbformat_minor": 0,
  "metadata": {
    "colab": {
      "provenance": []
    },
    "kernelspec": {
      "name": "python3",
      "display_name": "Python 3"
    },
    "language_info": {
      "name": "python"
    }
  },
  "cells": [
    {
      "cell_type": "code",
      "execution_count": null,
      "metadata": {
        "id": "iNoNTzFY0-VK"
      },
      "outputs": [],
      "source": [
        "import pandas as pd\n",
        "import numpy as np\n",
        "import sklearn\n",
        "from sklearn import linear_model\n",
        "from sklearn.utils import shuffle"
      ]
    },
    {
      "cell_type": "code",
      "source": [
        "data = pd.read_csv(\"student_mat_2173a47420.csv\", sep=\";\")\n",
        "print(data.head())"
      ],
      "metadata": {
        "colab": {
          "base_uri": "https://localhost:8080/"
        },
        "id": "UgUdjDUE151g",
        "outputId": "0158372a-ccec-40da-db19-494c193c10e5"
      },
      "execution_count": null,
      "outputs": [
        {
          "output_type": "stream",
          "name": "stdout",
          "text": [
            "  school sex  age address famsize Pstatus  Medu  Fedu     Mjob      Fjob  ...  \\\n",
            "0     GP   F   18       U     GT3       A     4     4  at_home   teacher  ...   \n",
            "1     GP   F   17       U     GT3       T     1     1  at_home     other  ...   \n",
            "2     GP   F   15       U     LE3       T     1     1  at_home     other  ...   \n",
            "3     GP   F   15       U     GT3       T     4     2   health  services  ...   \n",
            "4     GP   F   16       U     GT3       T     3     3    other     other  ...   \n",
            "\n",
            "  famrel freetime  goout  Dalc  Walc health absences  G1  G2  G3  \n",
            "0      4        3      4     1     1      3        6   5   6   6  \n",
            "1      5        3      3     1     1      3        4   5   5   6  \n",
            "2      4        3      2     2     3      3       10   7   8  10  \n",
            "3      3        2      2     1     1      5        2  15  14  15  \n",
            "4      4        3      2     1     2      5        4   6  10  10  \n",
            "\n",
            "[5 rows x 33 columns]\n"
          ]
        }
      ]
    },
    {
      "cell_type": "code",
      "source": [
        "data = data[[\"G1\",\"G2\",\"G3\",\"studytime\",\"health\",\"absences\",\"failures\"]]"
      ],
      "metadata": {
        "colab": {
          "base_uri": "https://localhost:8080/"
        },
        "id": "6R71ylLG2emT",
        "outputId": "4b8d1617-d3df-40a4-ac3f-f66eac9f5624"
      },
      "execution_count": null,
      "outputs": [
        {
          "output_type": "stream",
          "name": "stdout",
          "text": [
            "     G1  G2  G3  studytime  health  absences  failures\n",
            "0     5   6   6          2       3         6         0\n",
            "1     5   5   6          2       3         4         0\n",
            "2     7   8  10          2       3        10         3\n",
            "3    15  14  15          3       5         2         0\n",
            "4     6  10  10          2       5         4         0\n",
            "..   ..  ..  ..        ...     ...       ...       ...\n",
            "390   9   9   9          2       4        11         2\n",
            "391  14  16  16          1       2         3         0\n",
            "392  10   8   7          1       3         3         3\n",
            "393  11  12  10          1       5         0         0\n",
            "394   8   9   9          1       5         5         0\n",
            "\n",
            "[395 rows x 7 columns]\n"
          ]
        }
      ]
    },
    {
      "cell_type": "code",
      "source": [
        "predict = \"G3\"\n",
        "X = np.array(data.drop([predict], axis=1))#features\n",
        "Y= np.array(data[predict])#labels\n",
        "x_train, x_test,y_train,y_test =sklearn.model_selection.train_test_split(X,Y,test_size =0.1)#train is 90% the rest is test"
      ],
      "metadata": {
        "id": "p_Ns8GM44aDe"
      },
      "execution_count": null,
      "outputs": []
    },
    {
      "cell_type": "code",
      "source": [
        "linear = linear_model.LinearRegression()#specifying the model we want\n",
        "linear.fit(x_train,y_train)\n",
        "acc = linear.score(x_test,y_test)# acc stands for accuracy\n",
        "print(acc)"
      ],
      "metadata": {
        "colab": {
          "base_uri": "https://localhost:8080/"
        },
        "id": "qAfTCkgaKMzG",
        "outputId": "40d8dc1a-fca3-4ee3-dd41-d4d029da27ed"
      },
      "execution_count": null,
      "outputs": [
        {
          "output_type": "stream",
          "name": "stdout",
          "text": [
            "0.889723659988318\n"
          ]
        }
      ]
    },
    {
      "cell_type": "code",
      "source": [
        "predictions = linear.predict(x_test)\n",
        "for x in range(len(predictions)):\n",
        "  print(predictions[x], x_test[x], y_test[x])"
      ],
      "metadata": {
        "colab": {
          "base_uri": "https://localhost:8080/"
        },
        "id": "3kx9gYVhMZ4n",
        "outputId": "022724e7-eba3-435c-e297-59a2763519f1"
      },
      "execution_count": null,
      "outputs": [
        {
          "output_type": "stream",
          "name": "stdout",
          "text": [
            "4.951608471350661 [7 6 2 2 4 0] 6\n",
            "6.351629760800218 [7 8 2 5 2 3] 9\n",
            "9.201367137526542 [10 10  2  2  0  0] 10\n",
            "6.747406477869919 [7 8 4 3 8 0] 8\n",
            "11.701444220466755 [11 12  2  2 10  0] 13\n",
            "8.879934825201097 [ 8 10  2  1  4  0] 9\n",
            "11.891788703438177 [11 12  2  3 12  0] 11\n",
            "9.370717777830066 [10 10  4  5  6  0] 11\n",
            "11.82952946499805 [13 12  2  5  2  1] 12\n",
            "8.837153761206359 [ 8 10  2  2  0  0] 12\n",
            "15.273378021533084 [15 15  2  5  0  0] 15\n",
            "17.62158069685232 [17 17  2  1 13  0] 17\n",
            "4.281535890205238 [ 6  5  1  1 14  0] 5\n",
            "10.101686511100342 [12 10  2  4  8  0] 11\n",
            "15.40867551116144 [14 15  1  5  3  0] 16\n",
            "16.31580044544006 [15 16  2  5  2  0] 16\n",
            "12.508199116777671 [13 13  4  3  4  0] 12\n",
            "8.416500790912423 [10  9  3  4  4  0] 9\n",
            "8.25312881889761 [8 9 2 4 4 0] 10\n",
            "9.356784168837315 [10 10  2  2  4  0] 11\n",
            "12.76270268888897 [12 13  2  4  2  0] 13\n",
            "12.41683984623682 [10 13  1  1  6  0] 13\n",
            "12.215864324763485 [13 12  1  5  0  0] 12\n",
            "16.60230530610486 [17 16  2  5  0  0] 16\n",
            "8.191003697625447 [ 7 10  3  2  0  1] 10\n",
            "7.928534897927092 [10  8  2  3 14  0] 9\n",
            "8.703288505684508 [9 9 2 5 8 0] 9\n",
            "8.729978162533829 [10  9  2  5  4  0] 11\n",
            "8.542411105730235 [ 7 10  2  1  0  0] 11\n",
            "9.749253553281289 [10 10  2  1 17  0] 10\n",
            "16.272635198968082 [16 16  2  3  2  0] 17\n",
            "12.40334034008014 [10 13  2  5  6  1] 13\n",
            "13.833482449289694 [12 14  3  5  7  0] 14\n",
            "7.162403267458247 [ 9  7  2  5 18  0] 6\n",
            "5.852547472939623 [7 7 4 5 4 0] 6\n",
            "10.763804151541724 [11 11  2  5  2  0] 11\n",
            "2.766473020243237 [7 4 1 4 0 2] 0\n",
            "10.886937040191707 [11 11  1  5  0  0] 10\n",
            "-0.860721326008367 [6 0 1 3 0 0] 0\n",
            "8.963103709499986 [10  9  2  5 10  0] 10\n"
          ]
        }
      ]
    }
  ]
}